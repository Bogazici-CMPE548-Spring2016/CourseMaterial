{
 "cells": [
  {
   "cell_type": "code",
   "execution_count": 2,
   "metadata": {
    "collapsed": false
   },
   "outputs": [],
   "source": [
    "%matplotlib inline\n",
    "import numpy as np\n",
    "import matplotlib.pyplot as plt\n",
    "import seaborn as sns"
   ]
  },
  {
   "cell_type": "markdown",
   "metadata": {},
   "source": [
    "## Transition Matrix"
   ]
  },
  {
   "cell_type": "code",
   "execution_count": 3,
   "metadata": {
    "collapsed": false
   },
   "outputs": [],
   "source": [
    "P = np.array([[  0, 1/3, 1/4,   0,   0,   0],\n",
    "              [1/2,   0, 1/4, 1/4,   0,   0],\n",
    "              [1/2, 1/3,   0, 1/4, 1/3,   0],\n",
    "              [  0, 1/3, 1/4,   0, 1/3, 1/2],\n",
    "              [  0,   0, 1/4, 1/4,   0, 1/2],\n",
    "              [  0,   0,   0, 1/4, 1/3,   0]]);"
   ]
  },
  {
   "cell_type": "markdown",
   "metadata": {},
   "source": [
    "## Stationary Distribution via Eigenvalues\n",
    "\n",
    "The stationary distribution of a markov chain is the normalized eigenvector of the transition matrix, corresponding to the eigenvalue $\\lambda = 1$."
   ]
  },
  {
   "cell_type": "code",
   "execution_count": 4,
   "metadata": {
    "collapsed": false
   },
   "outputs": [
    {
     "name": "stdout",
     "output_type": "stream",
     "text": [
      "[ 0.11111111  0.16666667  0.22222222  0.22222222  0.16666667  0.11111111]\n"
     ]
    }
   ],
   "source": [
    "es, vs = np.linalg.eig(P)\n",
    "i = np.argmax(np.isclose(es, 1.0))\n",
    "v = vs[:, i]\n",
    "v = v / sum(v)\n",
    "print(v)"
   ]
  },
  {
   "cell_type": "markdown",
   "metadata": {},
   "source": [
    "## Visualize powers of the transition matrix\n",
    "\n",
    "\n",
    "Consider the $n^{th}$ power of the transition matrix, $P^n$.\n",
    "\n",
    "This matrix corresponds to $n$ step transition probabilities, i.e. $P_{ij}^n = \\mathbf{Pr} (X_{t+n} = i \\mid X_t = j)$. It is possible to visually check that if $n$ transitions enough for the chain to *mix* by plotting $P^n$. We should observe identical columns for *mixed chains*."
   ]
  },
  {
   "cell_type": "code",
   "execution_count": 30,
   "metadata": {
    "collapsed": false
   },
   "outputs": [
    {
     "data": {
      "image/png": "[encoded data removed]",
      "text/plain": [
       "<matplotlib.figure.Figure at 0x10b972d68>"
      ]
     },
     "metadata": {},
     "output_type": "display_data"
    }
   ],
   "source": [
    "fig, ax = plt.subplots(nrows=1, ncols=3, figsize=(16, 4))\n",
    "for i, n in enumerate([1, 4, 10]):\n",
    "    sns.heatmap(np.linalg.matrix_power(P, n), vmin = 0, vmax = 1, ax = ax[i])\n",
    "    ax[i].set_title(\"$n = %d$\" % n)\n",
    "plt.show()"
   ]
  },
  {
   "cell_type": "markdown",
   "metadata": {},
   "source": [
    "## Detailed Balance\n",
    "\n",
    "Detailed balance condition is expressed as $P_{ji} \\pi_i = P_{ij} \\pi_j$, where $\\pi$ is the stationary distribution and $P$ is the transition matrix."
   ]
  },
  {
   "cell_type": "code",
   "execution_count": 6,
   "metadata": {
    "collapsed": false
   },
   "outputs": [
    {
     "name": "stdout",
     "output_type": "stream",
     "text": [
      "[[ 0.          0.05555556  0.05555556  0.          0.          0.        ]\n",
      " [ 0.05555556  0.          0.05555556  0.05555556  0.          0.        ]\n",
      " [ 0.05555556  0.05555556  0.          0.05555556  0.05555556  0.        ]\n",
      " [ 0.          0.05555556  0.05555556  0.          0.05555556  0.05555556]\n",
      " [ 0.          0.          0.05555556  0.05555556  0.          0.05555556]\n",
      " [ 0.          0.          0.          0.05555556  0.05555556  0.        ]]\n"
     ]
    }
   ],
   "source": [
    "x = np.dot(P, np.diag(v))\n",
    "print(x)"
   ]
  },
  {
   "cell_type": "code",
   "execution_count": 31,
   "metadata": {
    "collapsed": false
   },
   "outputs": [
    {
     "data": {
      "text/plain": [
       "True"
      ]
     },
     "execution_count": 31,
     "metadata": {},
     "output_type": "execute_result"
    }
   ],
   "source": [
    "# x.T is the same as x.transpose()\n",
    "np.isclose(x, x.T).all()"
   ]
  },
  {
   "cell_type": "markdown",
   "metadata": {},
   "source": [
    "## Simulation"
   ]
  },
  {
   "cell_type": "code",
   "execution_count": 8,
   "metadata": {
    "collapsed": true
   },
   "outputs": [],
   "source": [
    "def simulate(P, N):\n",
    "    chain = np.zeros(N).astype(int)\n",
    "    chain[0] = 0\n",
    "    for i in range(1,N):\n",
    "        pr = P[:, chain[i-1]]\n",
    "        chain[i] = np.random.choice(range(6), p = pr)\n",
    "\n",
    "    return(chain)"
   ]
  },
  {
   "cell_type": "code",
   "execution_count": 9,
   "metadata": {
    "collapsed": false
   },
   "outputs": [],
   "source": [
    "chain = simulate(P, int(1e4))"
   ]
  },
  {
   "cell_type": "code",
   "execution_count": 10,
   "metadata": {
    "collapsed": false
   },
   "outputs": [
    {
     "data": {
      "image/png": "[encoded data removed]",
      "text/plain": [
       "<matplotlib.figure.Figure at 0x10a38cf60>"
      ]
     },
     "metadata": {},
     "output_type": "display_data"
    }
   ],
   "source": [
    "nburnin = 100\n",
    "sns.distplot(chain[nburnin:], kde = False, bins=[0,1,2,3,4,5,6])\n",
    "plt.show()"
   ]
  },
  {
   "cell_type": "markdown",
   "metadata": {},
   "source": [
    "## Independent samples\n",
    "\n",
    "It is possible to obtain independent samples from the stationary distribution by running multiple chains. If chains are long enough for them to mix, then the final states of each chain are i.i.d. samples from the stationary distribution.\n",
    "\n",
    "The following script runs multiple chains and then computes a histogram for each step of the chain and finally plots a heatmap."
   ]
  },
  {
   "cell_type": "code",
   "execution_count": 32,
   "metadata": {
    "collapsed": false
   },
   "outputs": [],
   "source": [
    "nchains = 1000\n",
    "chain_length = 50\n",
    "samples = np.zeros([nchains, chain_length]).astype(int)\n",
    "for i in range(0, nchains):\n",
    "    ch = simulate(P, chain_length)\n",
    "    samples[i,:] = ch"
   ]
  },
  {
   "cell_type": "code",
   "execution_count": 35,
   "metadata": {
    "collapsed": false
   },
   "outputs": [],
   "source": [
    "column_histograms = np.apply_along_axis(lambda x: np.histogram(x, bins=[0,1,2,3,4,5,6], density = True)[0], 0, samples)"
   ]
  },
  {
   "cell_type": "code",
   "execution_count": 36,
   "metadata": {
    "collapsed": false
   },
   "outputs": [
    {
     "data": {
      "image/png": "[encoded data removed]",
      "text/plain": [
       "<matplotlib.figure.Figure at 0x10c00e9b0>"
      ]
     },
     "metadata": {},
     "output_type": "display_data"
    }
   ],
   "source": [
    "plt.figure(figsize=(16, 4))\n",
    "sns.heatmap(column_histograms)\n",
    "plt.show()"
   ]
  },
  {
   "cell_type": "markdown",
   "metadata": {},
   "source": [
    "Folloginw plot explicitly shows the histogram of the last states of each chain. If the chains are long enough, these samples are i.i.d from the stationary distribution of the chain."
   ]
  },
  {
   "cell_type": "code",
   "execution_count": 14,
   "metadata": {
    "collapsed": false
   },
   "outputs": [
    {
     "data": {
      "image/png": "[encoded data removed]",
      "text/plain": [
       "<matplotlib.figure.Figure at 0x10ad6e358>"
      ]
     },
     "metadata": {},
     "output_type": "display_data"
    }
   ],
   "source": [
    "sns.distplot(samples[:, chain_length-1], kde = False, bins = [0,1,2,3,4,5,6])\n",
    "plt.show()"
   ]
  },
  {
   "cell_type": "code",
   "execution_count": null,
   "metadata": {
    "collapsed": true
   },
   "outputs": [],
   "source": []
  },
  {
   "cell_type": "code",
   "execution_count": null,
   "metadata": {
    "collapsed": true
   },
   "outputs": [],
   "source": []
  },
  {
   "cell_type": "code",
   "execution_count": null,
   "metadata": {
    "collapsed": true
   },
   "outputs": [],
   "source": []
  },
  {
   "cell_type": "code",
   "execution_count": null,
   "metadata": {
    "collapsed": true
   },
   "outputs": [],
   "source": []
  }
 ],
 "metadata": {
  "kernelspec": {
   "display_name": "Python 3",
   "language": "python",
   "name": "python3"
  },
  "language_info": {
   "codemirror_mode": {
    "name": "ipython",
    "version": 3
   },
   "file_extension": ".py",
   "mimetype": "text/x-python",
   "name": "python",
   "nbconvert_exporter": "python",
   "pygments_lexer": "ipython3",
   "version": "3.5.1"
  }
 },
 "nbformat": 4,
 "nbformat_minor": 0
}
