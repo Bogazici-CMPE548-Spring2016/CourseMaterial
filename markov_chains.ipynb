{
 "cells": [
  {
   "cell_type": "code",
   "execution_count": 2,
   "metadata": {
    "collapsed": false
   },
   "outputs": [],
   "source": [
    "%matplotlib inline\n",
    "import numpy as np\n",
    "import matplotlib.pyplot as plt\n",
    "import seaborn as sns"
   ]
  },
  {
   "cell_type": "markdown",
   "metadata": {},
   "source": [
    "## Transition Matrix"
   ]
  },
  {
   "cell_type": "code",
   "execution_count": 3,
   "metadata": {
    "collapsed": false
   },
   "outputs": [],
   "source": [
    "P = np.array([[  0, 1/3, 1/4,   0,   0,   0],\n",
    "              [1/2,   0, 1/4, 1/4,   0,   0],\n",
    "              [1/2, 1/3,   0, 1/4, 1/3,   0],\n",
    "              [  0, 1/3, 1/4,   0, 1/3, 1/2],\n",
    "              [  0,   0, 1/4, 1/4,   0, 1/2],\n",
    "              [  0,   0,   0, 1/4, 1/3,   0]]);"
   ]
  },
  {
   "cell_type": "markdown",
   "metadata": {},
   "source": [
    "## Stationary Distribution via Eigenvalues"
   ]
  },
  {
   "cell_type": "code",
   "execution_count": 9,
   "metadata": {
    "collapsed": false
   },
   "outputs": [
    {
     "name": "stdout",
     "output_type": "stream",
     "text": [
      "[ 0.11111111  0.16666667  0.22222222  0.22222222  0.16666667  0.11111111]\n"
     ]
    }
   ],
   "source": [
    "es, vs = np.linalg.eig(P)\n",
    "i = np.argmax(np.isclose(es, 1.0))\n",
    "v = vs[:, i]\n",
    "v = v / sum(v)\n",
    "print(v)"
   ]
  },
  {
   "cell_type": "markdown",
   "metadata": {},
   "source": [
    "## Visualize powers of the transition matrix"
   ]
  },
  {
   "cell_type": "code",
   "execution_count": 5,
   "metadata": {
    "collapsed": false
   },
   "outputs": [
    {
     "data": {
      "image/png": "[encoded data removed]",
      "text/plain": [
       "<matplotlib.figure.Figure at 0x1155f7f28>"
      ]
     },
     "metadata": {},
     "output_type": "display_data"
    }
   ],
   "source": [
    "sns.heatmap(np.linalg.matrix_power(P, 10), vmin = 0, vmax = 1)\n",
    "plt.show()"
   ]
  },
  {
   "cell_type": "markdown",
   "metadata": {},
   "source": [
    "## Detailed Balance\n",
    "\n",
    "Detailed balance condition is expressed as $P_{ji} \\pi_i = P_{ij} \\pi_j$, where $\\pi$ is the stationary distribution and $P$ is the transition matrix."
   ]
  },
  {
   "cell_type": "code",
   "execution_count": 11,
   "metadata": {
    "collapsed": false
   },
   "outputs": [
    {
     "name": "stdout",
     "output_type": "stream",
     "text": [
      "[[ 0.          0.05555556  0.05555556  0.          0.          0.        ]\n",
      " [ 0.05555556  0.          0.05555556  0.05555556  0.          0.        ]\n",
      " [ 0.05555556  0.05555556  0.          0.05555556  0.05555556  0.        ]\n",
      " [ 0.          0.05555556  0.05555556  0.          0.05555556  0.05555556]\n",
      " [ 0.          0.          0.05555556  0.05555556  0.          0.05555556]\n",
      " [ 0.          0.          0.          0.05555556  0.05555556  0.        ]]\n"
     ]
    }
   ],
   "source": [
    "x = np.dot(P, np.diag(v)) # shortcut: x = P*v\n",
    "print(x)"
   ]
  },
  {
   "cell_type": "code",
   "execution_count": 12,
   "metadata": {
    "collapsed": false
   },
   "outputs": [
    {
     "data": {
      "text/plain": [
       "True"
      ]
     },
     "execution_count": 12,
     "metadata": {},
     "output_type": "execute_result"
    }
   ],
   "source": [
    "# x.T = x.transpose()\n",
    "np.isclose(x, x.T).all()"
   ]
  },
  {
   "cell_type": "markdown",
   "metadata": {},
   "source": [
    "## Simulation"
   ]
  },
  {
   "cell_type": "code",
   "execution_count": 45,
   "metadata": {
    "collapsed": true
   },
   "outputs": [],
   "source": [
    "def simulate(P, N):\n",
    "    chain = np.zeros(N).astype(int)\n",
    "    chain[0] = 0\n",
    "    for i in range(1,N):\n",
    "        pr = P[:, chain[i-1]]\n",
    "        chain[i] = np.random.choice(range(6), p = pr)\n",
    "\n",
    "    return(chain)"
   ]
  },
  {
   "cell_type": "code",
   "execution_count": 46,
   "metadata": {
    "collapsed": false
   },
   "outputs": [],
   "source": [
    "chain = simulate(P, int(1e4))"
   ]
  },
  {
   "cell_type": "code",
   "execution_count": 47,
   "metadata": {
    "collapsed": false
   },
   "outputs": [
    {
     "data": {
      "image/png": "[encoded data removed]",
      "text/plain": [
       "<matplotlib.figure.Figure at 0x113697320>"
      ]
     },
     "metadata": {},
     "output_type": "display_data"
    }
   ],
   "source": [
    "nburnin = 100\n",
    "sns.distplot(chain[nburnin:], kde = False, bins=[0,1,2,3,4,5,6])\n",
    "plt.show()"
   ]
  },
  {
   "cell_type": "markdown",
   "metadata": {},
   "source": [
    "## Independent samples"
   ]
  },
  {
   "cell_type": "code",
   "execution_count": 48,
   "metadata": {
    "collapsed": false
   },
   "outputs": [],
   "source": [
    "nchains = 10000\n",
    "chain_length = 50\n",
    "samples = np.zeros([nchains, chain_length]).astype(int)\n",
    "for i in range(0, nchains):\n",
    "    ch = simulate(P, chain_length)\n",
    "    samples[i,:] = ch"
   ]
  },
  {
   "cell_type": "code",
   "execution_count": 29,
   "metadata": {
    "collapsed": false
   },
   "outputs": [],
   "source": [
    "xx = np.apply_along_axis(lambda x: np.histogram(x, bins=[0,1,2,3,4,5,6], density = True)[0], 0, samples)"
   ]
  },
  {
   "cell_type": "code",
   "execution_count": 30,
   "metadata": {
    "collapsed": false
   },
   "outputs": [
    {
     "data": {
      "image/png": "[encoded data removed]",
      "text/plain": [
       "<matplotlib.figure.Figure at 0x11367f1d0>"
      ]
     },
     "metadata": {},
     "output_type": "display_data"
    }
   ],
   "source": [
    "plt.figure(figsize=(16, 4))\n",
    "sns.heatmap(xx)\n",
    "plt.show()"
   ]
  },
  {
   "cell_type": "code",
   "execution_count": 36,
   "metadata": {
    "collapsed": false
   },
   "outputs": [
    {
     "data": {
      "image/png": "[encoded data removed]",
      "text/plain": [
       "<matplotlib.figure.Figure at 0x10d9ff160>"
      ]
     },
     "metadata": {},
     "output_type": "display_data"
    }
   ],
   "source": [
    "sns.distplot(samples[:, chain_length-1], kde = False, bins = [0,1,2,3,4,5,6])\n",
    "plt.show()"
   ]
  },
  {
   "cell_type": "code",
   "execution_count": null,
   "metadata": {
    "collapsed": true
   },
   "outputs": [],
   "source": []
  },
  {
   "cell_type": "code",
   "execution_count": null,
   "metadata": {
    "collapsed": true
   },
   "outputs": [],
   "source": []
  },
  {
   "cell_type": "code",
   "execution_count": null,
   "metadata": {
    "collapsed": true
   },
   "outputs": [],
   "source": []
  },
  {
   "cell_type": "code",
   "execution_count": null,
   "metadata": {
    "collapsed": true
   },
   "outputs": [],
   "source": []
  }
 ],
 "metadata": {
  "kernelspec": {
   "display_name": "Python 3",
   "language": "python",
   "name": "python3"
  },
  "language_info": {
   "codemirror_mode": {
    "name": "ipython",
    "version": 3
   },
   "file_extension": ".py",
   "mimetype": "text/x-python",
   "name": "python",
   "nbconvert_exporter": "python",
   "pygments_lexer": "ipython3",
   "version": "3.5.1"
  }
 },
 "nbformat": 4,
 "nbformat_minor": 0
}
