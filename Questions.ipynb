{
 "cells": [
  {
   "cell_type": "markdown",
   "metadata": {},
   "source": [
    "## Exercises"
   ]
  },
  {
   "cell_type": "markdown",
   "metadata": {},
   "source": [
    "\n",
    "### Law of Large Numbers and Central Limit Theorem\n",
    "Suppose we are throwing a loaded die with an unknown probability vector $\\pi$. How many trials are needed to figure out with $99$ percent confidence that indeed the die is loaded, i.e. $\\pi_i \\neq 1/6$ for $i=1\\dots 6$."
   ]
  },
  {
   "cell_type": "markdown",
   "metadata": {},
   "source": [
    "### Sampling \n",
    "Consider a symmetric triangle distribution $q$ on $[-1, 1]$.\n",
    "Using $q$ as a source of random numbers, how can you generate uniform distributed samples on $[-2, 2]$ using rejection sampling? How many samples can be generated per sample from $q$?"
   ]
  },
  {
   "cell_type": "markdown",
   "metadata": {},
   "source": [
    "### Rejection Sampling\n",
    "Consider the function $\\phi(x) = \\exp(-\\frac{1}{2\\rho} \\sum_{i=1}^D x_i^2 )$ and the unit Gaussian density $q(x)= {\\cal N}(0, I)$ on $R^D$ and $0 < \\rho < 1$.\n",
    "\n",
    "1. To use $q$ as a proposal distribution find $M>0$ such that $Mq(x)\\geq \\phi(x)$ the volume under $\\phi$ can be estimated via rejection sampling.\n",
    "* Plot the functions $Mq$ and $\\phi$ for $D=1$.\n",
    "* Calculate the acceptance probability as a function of $\\rho$ and $D$ and comment if this is a viable estimation method for large $D$.\n"
   ]
  },
  {
   "cell_type": "markdown",
   "metadata": {},
   "source": [
    "### Perfect Matchings and Permanent of a binary matrix\n",
    "\n",
    "This assignment is based on Liu 4.2, page 90.\n",
    "\n",
    "We define a so-called restriction matrix $A$ where $A_{i,j} \\in \\{0, 1 \\}$. You can think of $A$ as an adjacency matrix\n",
    "of a bipartite graph, where we have two set of nodes $V_1$ and $V_2$, and only links from $i\\in V_1$ to $j \\in V_2$ are allowed. Assume that has the same number of nodes in each set, i.e., $A$ is a square matrix.\n",
    "The permanent of a square matrix $A$ is the total number of perfect matchings on this bipartite graph; we select for each $i \\in V_1$ a unique $j \\in V_2$. Historically, this problem was also called the marriage problem where $i$ and $j$ are persons of different gender.\n",
    "\n",
    "As $V_1$ and $V_2$ have the same cardinalities, each matching is a permutation of $1 \\dots N$. We denote a permutation by $\\sigma$ and the set\n",
    "of all permutations by $\\Pi$. For example,\n",
    "if $(1,2,3) \\rightarrow (1,3,2)$, then $\\sigma(1) = 1$, $\\sigma(2) = 3$ and $\\sigma(3) = 2$. A configuration is valid only if\n",
    "\n",
    "$$\n",
    "\\prod_{i=1}^N A_{i, \\sigma(i)} = 1\n",
    "$$\n",
    "\n",
    "The permanent is\n",
    "$$\n",
    "\\text{perm}(A)  =  \\sum_{\\sigma \\in \\Pi} \\prod_{i=1}^N A_{i, \\sigma(i)}\n",
    "$$\n",
    "\n",
    "1. Design an algorithm to sample uniformly from the set of matchings\n",
    "* Write a program to exactly compute the permanent of a matrix. This is practical only for $N$ about $12$.\n",
    "Test your program with the test matrices to be posted on the course web page.\n",
    "* Implement the importance sampling strategy described by Liu and compare with exact results.\n"
   ]
  },
  {
   "cell_type": "markdown",
   "metadata": {},
   "source": [
    "### Traveling Salesman\n",
    "\n",
    "We will consider a slightly modified version of the traveling salesman problem. Consider a graph with $N$ vertices and a (not necessarily symmetric) pairwise distance matrix $D$. Some entries of the matrix can be infinite to allow for non existing edges. The traveling salesman problem is about finding the shortest total length tour by visiting each vertex only once.\n",
    "\n",
    "Mathematically, this is a problem about finding a permutation $\\sigma$ of $1\\dots N$ that would minimize\n",
    "$$\n",
    "E(\\sigma)  =  \\sum_{i=1}^N D_{\\sigma(i), \\sigma(i-1)}\n",
    "$$\n",
    "($\\sigma(0) = \\sigma(N)$).\n",
    "\n",
    "We will now define a distribution over $\\sigma$\n",
    "$$\n",
    "p_\\beta(\\sigma) \\propto \\exp(-\\beta E(\\sigma))\n",
    "$$\n",
    "\n",
    "* Design an algorithm to sample from $p_\\beta(\\sigma)$ for $\\beta=0.1, 1, 10$. Plot $E(\\sigma)$ as a function of the iterations.\n",
    "* For a small problem, say $N=12$ and a distance matrix obtained from $N$ uniformly random points in the unit cube, find the optimum and compare the samples obtained by your sampler to the optimum. Note that the optimum should be at the mode of $p_\\beta$.\n"
   ]
  },
  {
   "cell_type": "markdown",
   "metadata": {},
   "source": [
    "\n",
    "### Importance sampling\n",
    "\n",
    "Consider the target distribution\n",
    "\\begin{eqnarray}\n",
    "p(x) = {\\cal N}(x; 0, S)\n",
    "\\end{eqnarray}\n",
    "when using the proposal\n",
    "\\begin{eqnarray}\n",
    "q(x) = {\\cal N}(x; 0, \\Sigma)\n",
    "\\end{eqnarray}\n",
    "\n",
    "* Derive the weight function for the target distribution\n",
    "* Derive the analytic expression for the variance of importance weights when $x$ is a scalar and show that the variance is unbounded if $\\Sigma < S$\n",
    "* Derive the analytic expression for the variance of importance weights when $x$ is a vector and $S$ and $\\Sigma$ are covariance matrices and show that the variance is unbounded if $S-\\Sigma$ has negative eigenvalues\n"
   ]
  }
 ],
 "metadata": {
  "kernelspec": {
   "display_name": "Python 3",
   "language": "python",
   "name": "python3"
  },
  "language_info": {
   "codemirror_mode": {
    "name": "ipython",
    "version": 3
   },
   "file_extension": ".py",
   "mimetype": "text/x-python",
   "name": "python",
   "nbconvert_exporter": "python",
   "pygments_lexer": "ipython3",
   "version": "3.5.0b3"
  }
 },
 "nbformat": 4,
 "nbformat_minor": 0
}
